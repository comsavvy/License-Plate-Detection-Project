{
 "cells": [
  {
   "cell_type": "markdown",
   "id": "fa5e35c6",
   "metadata": {},
   "source": [
    "# GROUP 11 {style=\"text-align: center;\"}"
   ]
  },
  {
   "cell_type": "markdown",
   "id": "3bb3dbe3",
   "metadata": {
    "vscode": {
     "languageId": "plaintext"
    }
   },
   "source": [
    "### **Group Members:**\n",
    "- **Alliance IRIGENERA** *(Group Leader)*\n",
    "- **Maryam Yahya MOHAMED**\n",
    "- **Olusola Timothy OGUNDEPO**\n",
    "- **Jean Baptiste HABINEZA**"
   ]
  },
  {
   "cell_type": "markdown",
   "id": "652a2332",
   "metadata": {},
   "source": [
    "## Project 5. License Plate Detection"
   ]
  },
  {
   "cell_type": "markdown",
   "id": "ed6a7d23",
   "metadata": {},
   "source": [
    "Write a program in pure Python (no external libraries) that detects the presence of Senegalese vehicle license plate numbers inside any text string. \n",
    "\n",
    "We consider the following formats (letters are A–Z; digits are 0–9):\n",
    "\n",
    "XY-abcd-T or XY-abcd-ZT\n",
    "\n",
    "where X, Y, Z, T are letters and a, b, c, d are digits.\n",
    "\n",
    "**Requirements**\n",
    "\n",
    "1. The input is an arbitrary string; the output is a Boolean. If True, the program must also print all detected license plates.\n",
    "2. Matching is case-insensitive; detected plates must be normalized to uppercase and printed in canonical hyphenated form XY-ABCD-T/XY-ABCD-ZT.\n",
    "3. Allow either a hyphen or a single space as a separator (- or ). For example, XY 1234 T and xy-1234-zt must be recognized and normalized.\n",
    "4. Do not match substrings embedded within longer alphanumeric tokens (e.g., do not match across letters/digits without a boundary).\n",
    "5. If multiple plates appear, print them in the order they appear, without duplicates.\n",
    "6. If no plate is found, print a clear message stating so.\n",
    "\n",
    "**Additional Complexity**\n",
    "\n",
    "- Tolerate trailing punctuation around a plate (e.g., commas or periods).\n",
    "- Count and display the total number of unique plates found at the end.\n",
    "- Provide a minimal text menu to test multiple inputs until the user quits."
   ]
  },
  {
   "cell_type": "code",
   "execution_count": 1,
   "id": "67f78205",
   "metadata": {},
   "outputs": [],
   "source": [
    "def senegalese_plate_number_detector(text):\n",
    "    \"\"\"\n",
    "        senegalese_plate_number_detector(text)\n",
    "\n",
    "    This function helps detect Senegalese vehicle license plates in arbitrary text.\n",
    "    \n",
    "    Sample format of Senegalese vehicle license plates: XY-1234-T, XY-1234-ZT or XY 1234 T, XY 1234 ZT\n",
    "\n",
    "    The detector is case-insensitive and allows either hyphens or spaces as separators. Also, it ensures that the detected plate numbers are not part of larger alphanumeric sequences.\n",
    "\n",
    "    Parameters:\n",
    "        text (str): Input text to search for Senegalese vehicle license plates.\n",
    "    Returns:\n",
    "        bool: True if at least one plate number is found, False otherwise.\n",
    "    \"\"\"\n",
    "    "
   ]
  }
 ],
 "metadata": {
  "kernelspec": {
   "display_name": "base",
   "language": "python",
   "name": "python3"
  },
  "language_info": {
   "codemirror_mode": {
    "name": "ipython",
    "version": 3
   },
   "file_extension": ".py",
   "mimetype": "text/x-python",
   "name": "python",
   "nbconvert_exporter": "python",
   "pygments_lexer": "ipython3",
   "version": "3.13.5"
  }
 },
 "nbformat": 4,
 "nbformat_minor": 5
}
