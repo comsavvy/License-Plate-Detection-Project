{
 "cells": [
  {
   "cell_type": "markdown",
   "id": "fa5e35c6",
   "metadata": {},
   "source": [
    "# GROUP 11 {style=\"text-align: center;\"}"
   ]
  },
  {
   "cell_type": "markdown",
   "id": "3bb3dbe3",
   "metadata": {
    "vscode": {
     "languageId": "plaintext"
    }
   },
   "source": [
    "### **Group Members:**\n",
    "- **Alliance IRIGENERA** *(Group Leader)*\n",
    "- **Maryam Yahya MOHAMED**\n",
    "- **Olusola Timothy OGUNDEPO**\n",
    "- **Jean Baptiste HABINEZA**"
   ]
  },
  {
   "cell_type": "markdown",
   "id": "652a2332",
   "metadata": {},
   "source": [
    "## Project 5. License Plate Detection"
   ]
  },
  {
   "cell_type": "markdown",
   "id": "ed6a7d23",
   "metadata": {},
   "source": [
    "Write a program in pure Python (no external libraries) that detects the presence of Senegalese vehicle license plate numbers inside any text string. \n",
    "\n",
    "We consider the following formats (letters are A–Z; digits are 0–9):\n",
    "\n",
    "XY-abcd-T or XY-abcd-ZT\n",
    "\n",
    "where X, Y, Z, T are letters and a, b, c, d are digits.\n",
    "\n",
    "**Requirements**\n",
    "\n",
    "1. The input is an arbitrary string; the output is a Boolean. If True, the program must also print all detected license plates.\n",
    "2. Matching is case-insensitive; detected plates must be normalized to uppercase and printed in canonical hyphenated form XY-ABCD-T/XY-ABCD-ZT.\n",
    "3. Allow either a hyphen or a single space as a separator (- or ). For example, XY 1234 T and xy-1234-zt must be recognized and normalized.\n",
    "4. Do not match substrings embedded within longer alphanumeric tokens (e.g., do not match across letters/digits without a boundary).\n",
    "5. If multiple plates appear, print them in the order they appear, without duplicates.\n",
    "6. If no plate is found, print a clear message stating so.\n",
    "\n",
    "**Additional Complexity**\n",
    "\n",
    "- Tolerate trailing punctuation around a plate (e.g., commas or periods).\n",
    "- Count and display the total number of unique plates found at the end.\n",
    "- Provide a minimal text menu to test multiple inputs until the user quits."
   ]
  },
  {
   "cell_type": "code",
   "execution_count": null,
   "id": "67f78205",
   "metadata": {},
   "outputs": [],
   "source": [
    "def senegalese_plate_number_detector(text):\n",
    "    \"\"\"\n",
    "        senegalese_plate_number_detector(text)\n",
    "\n",
    "    This function helps detect Senegalese vehicle license plates in arbitrary text.\n",
    "    \n",
    "    Sample format of Senegalese vehicle license plates: XY-1234-T, XY-1234-ZT or XY 1234 T, XY 1234 ZT\n",
    "\n",
    "    The detector is case-insensitive and allows either hyphens or spaces as separators. Also, it ensures that the detected plate numbers are not part of larger alphanumeric sequences.\n",
    "\n",
    "    Parameters:\n",
    "        text (str): Input text to search for Senegalese vehicle license plates.\n",
    "    Returns:\n",
    "        bool: True if at least one plate number is found, False otherwise.\n",
    "    \"\"\"\n",
    "    \n",
    "    text = text.upper()\n",
    "    plates_found = [] # to store unique plates\n",
    "    length = len(text)\n",
    "\n",
    "    index = 0\n",
    "    while index < length - 8:  # minimal length check\n",
    "        # Check first two letters\n",
    "        if not text[index:index+2].isalpha():\n",
    "            index += 1\n",
    "            continue\n",
    "\n",
    "        # Check first separator\n",
    "        if text[index+2] not in ('-', ' '):\n",
    "            index += 1\n",
    "            continue\n",
    "\n",
    "        # Check next 4 digits\n",
    "        if not text[index+3:index+7].isdigit():\n",
    "            index += 1\n",
    "            continue\n",
    "\n",
    "        # Check next separator\n",
    "        if text[index+7] not in ('-', ' '):\n",
    "            index += 1\n",
    "            continue\n",
    "\n",
    "        # The last part of the plate number can be either 1 or 2 letters\n",
    "        end = index + 8\n",
    "        last_part = \"\"\n",
    "        if end < length and text[end].isalpha():\n",
    "            last_part += text[end]\n",
    "            end += 1\n",
    "            if end < length and text[end].isalpha():\n",
    "                last_part += text[end]\n",
    "                end += 1\n",
    "\n",
    "        if len(last_part) == 0:\n",
    "            index += 1\n",
    "            continue\n",
    "\n",
    "        # Check boundaries (before and after)\n",
    "        boundary_before = (index == 0) or (not text[index-1].isalnum())\n",
    "        boundary_after = (end == length) or (not text[end].isalnum())\n",
    "\n",
    "        if boundary_before and boundary_after:\n",
    "            # Normalise to canonical form with hyphens\n",
    "            plate = f\"{text[index:index+2]}-{text[index+3:index+7]}-{last_part}\"\n",
    "            if plate not in plates_found:\n",
    "                plates_found.append(plate)\n",
    "            index = end  # skip ahead since we found a valid plate\n",
    "        else:\n",
    "            index += 1\n",
    "    \n",
    "    if plates_found:\n",
    "        print(\"Detected Senegalese plates:\")\n",
    "        for p in plates_found:\n",
    "            print(\"---->\", p)\n",
    "        print(f\"Total unique plates found: {len(plates_found)}\")\n",
    "        return True\n",
    "    else:\n",
    "        print(\"No Senegalese plate number found in the text.\")\n",
    "        return False"
   ]
  },
  {
   "cell_type": "markdown",
   "id": "55ad6e15",
   "metadata": {},
   "source": [
    "## Senegalese License Plate Detector Test"
   ]
  },
  {
   "cell_type": "code",
   "execution_count": 2,
   "id": "55163f05",
   "metadata": {},
   "outputs": [],
   "source": [
    "testing_paragraph = (\n",
    "    \"A man at the African Institute of Mathematical Sciences drives a vehicle with the plate number AB-1234-DC. \"\n",
    "    \"Later, he moved to Nigeria and changed his plate to BC-6782-E. After an accident, he switched to xy 1234 ZT. \"\n",
    "    \"Another person was seen with MN-4321-ZT, while someone else reported PQ-5678-TY. \"\n",
    "    \"uv 9876 T was involved in a minor incident. Someone mistakenly reported BAD-233-X, but the correct plate was bA-2333-X. \"\n",
    "    \"A claim about CD-3456-Z turned out to be fake. Finally, EF 4567 YT was spotted in the area.\"\n",
    ")"
   ]
  },
  {
   "cell_type": "code",
   "execution_count": 3,
   "id": "2a4b2270",
   "metadata": {},
   "outputs": [
    {
     "name": "stdout",
     "output_type": "stream",
     "text": [
      "Detected Senegalese plates:\n",
      "----> AB-1234-DC\n",
      "----> BC-6782-E\n",
      "----> XY-1234-ZT\n",
      "----> MN-4321-ZT\n",
      "----> PQ-5678-TY\n",
      "----> UV-9876-T\n",
      "----> BA-2333-X\n",
      "----> CD-3456-Z\n",
      "----> EF-4567-YT\n",
      "Total unique plates found: 9\n"
     ]
    },
    {
     "data": {
      "text/plain": [
       "True"
      ]
     },
     "execution_count": 3,
     "metadata": {},
     "output_type": "execute_result"
    }
   ],
   "source": [
    "senegalese_plate_number_detector(testing_paragraph)"
   ]
  },
  {
   "cell_type": "markdown",
   "id": "f6740d92",
   "metadata": {},
   "source": [
    "Clearly, the function created works perfectly as it is able to detect all the senegalese license plate numbers in the given paragraph. And also, it is able to normalize them to uppercase and print them in canonical hyphenated form XY-ABCD-T/XY-ABCD-ZT."
   ]
  },
  {
   "cell_type": "markdown",
   "id": "9ffbb94a",
   "metadata": {},
   "source": [
    "## Minimal Text Menu to Test Multiple Inputs"
   ]
  },
  {
   "cell_type": "code",
   "execution_count": 4,
   "id": "6f827753",
   "metadata": {},
   "outputs": [],
   "source": [
    "def test_menu():\n",
    "    print(\"Senegalese Vehicle Plate Detector\")\n",
    "\n",
    "    while True:\n",
    "        print(\"Enter 'q' or 'quit' to stop the program.\\n\")\n",
    "        text = input(\"Enter text input: \").strip()\n",
    "        if text.lower() == 'q':\n",
    "            print(\"Goodbye!\")\n",
    "            break\n",
    "        senegalese_plate_number_detector(text)\n",
    "        print(\"-\" * 40)"
   ]
  },
  {
   "cell_type": "code",
   "execution_count": 5,
   "id": "c5ed9a02",
   "metadata": {},
   "outputs": [
    {
     "name": "stdout",
     "output_type": "stream",
     "text": [
      "Senegalese Vehicle Plate Detector\n",
      "Enter 'q' or 'quit' to stop the program.\n",
      "\n",
      "Detected Senegalese plates:\n",
      "----> AX-1234-BB\n",
      "Total unique plates found: 1\n",
      "----------------------------------------\n",
      "Enter 'q' or 'quit' to stop the program.\n",
      "\n",
      "Detected Senegalese plates:\n",
      "----> XY-1233-VW\n",
      "Total unique plates found: 1\n",
      "----------------------------------------\n",
      "Enter 'q' or 'quit' to stop the program.\n",
      "\n",
      "No Senegalese plate number found in the text.\n",
      "----------------------------------------\n",
      "Enter 'q' or 'quit' to stop the program.\n",
      "\n",
      "Detected Senegalese plates:\n",
      "----> XY-1723-W\n",
      "Total unique plates found: 1\n",
      "----------------------------------------\n",
      "Enter 'q' or 'quit' to stop the program.\n",
      "\n",
      "No Senegalese plate number found in the text.\n",
      "----------------------------------------\n",
      "Enter 'q' or 'quit' to stop the program.\n",
      "\n",
      "Goodbye!\n"
     ]
    }
   ],
   "source": [
    "test_menu()"
   ]
  },
  {
   "cell_type": "code",
   "execution_count": null,
   "id": "84987d7e",
   "metadata": {},
   "outputs": [],
   "source": []
  }
 ],
 "metadata": {
  "kernelspec": {
   "display_name": "base",
   "language": "python",
   "name": "python3"
  },
  "language_info": {
   "codemirror_mode": {
    "name": "ipython",
    "version": 3
   },
   "file_extension": ".py",
   "mimetype": "text/x-python",
   "name": "python",
   "nbconvert_exporter": "python",
   "pygments_lexer": "ipython3",
   "version": "3.13.5"
  }
 },
 "nbformat": 4,
 "nbformat_minor": 5
}
