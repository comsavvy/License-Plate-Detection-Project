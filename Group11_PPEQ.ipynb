{
 "cells": [
  {
   "cell_type": "markdown",
   "id": "fa5e35c6",
   "metadata": {},
   "source": [
    "# GROUP 11 {style=\"text-align: center;\"}"
   ]
  },
  {
   "cell_type": "markdown",
   "id": "3bb3dbe3",
   "metadata": {
    "vscode": {
     "languageId": "plaintext"
    }
   },
   "source": [
    "### **Group Members:**\n",
    "- **Alliance IRIGENERA** *(Group Leader)*\n",
    "- **Maryam Yahya MOHAMED**\n",
    "- **Olusola Timothy OGUNDEPO**\n",
    "- **Jean Baptiste HABINEZA**"
   ]
  },
  {
   "cell_type": "markdown",
   "id": "652a2332",
   "metadata": {},
   "source": [
    "## Project 5. License Plate Detection"
   ]
  },
  {
   "cell_type": "markdown",
   "id": "ed6a7d23",
   "metadata": {},
   "source": [
    "Write a program in pure Python (no external libraries) that detects the presence of Senegalese vehicle license plate numbers inside any text string. \n",
    "\n",
    "We consider the following formats (letters are A–Z; digits are 0–9):\n",
    "\n",
    "XY-abcd-T or XY-abcd-ZT\n",
    "\n",
    "where X, Y, Z, T are letters and a, b, c, d are digits.\n",
    "\n",
    "**Requirements**\n",
    "\n",
    "1. The input is an arbitrary string; the output is a Boolean. If True, the program must also print all detected license plates.\n",
    "2. Matching is case-insensitive; detected plates must be normalized to uppercase and printed in canonical hyphenated form XY-ABCD-T/XY-ABCD-ZT.\n",
    "3. Allow either a hyphen or a single space as a separator (- or ). For example, XY 1234 T and xy-1234-zt must be recognized and normalized.\n",
    "4. Do not match substrings embedded within longer alphanumeric tokens (e.g., do not match across letters/digits without a boundary).\n",
    "5. If multiple plates appear, print them in the order they appear, without duplicates.\n",
    "6. If no plate is found, print a clear message stating so.\n",
    "\n",
    "**Additional Complexity**\n",
    "\n",
    "- Tolerate trailing punctuation around a plate (e.g., commas or periods).\n",
    "- Count and display the total number of unique plates found at the end.\n",
    "- Provide a minimal text menu to test multiple inputs until the user quits."
   ]
  },
  {
   "cell_type": "code",
   "execution_count": 1,
   "id": "67f78205",
   "metadata": {},
   "outputs": [],
   "source": [
    "def senegalese_plate_number_detector(text):\n",
    "    \"\"\"\n",
    "        senegalese_plate_number_detector(text)\n",
    "\n",
    "    This function helps detect Senegalese vehicle license plates in arbitrary text.\n",
    "    \n",
    "    Sample format of Senegalese vehicle license plates: XY-1234-T, XY-1234-ZT or XY 1234 T, XY 1234 ZT\n",
    "\n",
    "    The detector is case-insensitive and allows either hyphens or spaces as separators. Also, it ensures that the detected plate numbers are not part of larger alphanumeric sequences.\n",
    "\n",
    "    Parameters:\n",
    "        text (str): Input text to search for Senegalese vehicle license plates.\n",
    "    Returns:\n",
    "        bool: True if at least one plate number is found, False otherwise.\n",
    "    \"\"\"\n",
    "    \n",
    "    text = text.upper()\n",
    "    plates_found = [] # to store unique plates\n",
    "    length = len(text)\n",
    "\n",
    "    index = 0\n",
    "    while index < length - 8:  # minimal length check\n",
    "        # Check first two letters\n",
    "        if not text[index:index+2].isalpha():\n",
    "            index += 1\n",
    "            continue\n",
    "\n",
    "        # Check first separator\n",
    "        if text[index+2] not in ('-', ' '):\n",
    "            index += 1\n",
    "            continue\n",
    "\n",
    "        # Check next 4 digits\n",
    "        if not text[index+3:index+7].isdigit():\n",
    "            index += 1\n",
    "            continue\n",
    "\n",
    "        # Check next separator\n",
    "        if text[index+7] not in ('-', ' '):\n",
    "            index += 1\n",
    "            continue\n",
    "\n",
    "        # The last part of the plate number can be either 1 or 2 letters\n",
    "        end = index + 8\n",
    "        last_part = \"\"\n",
    "        if end < length and text[end].isalpha():\n",
    "            last_part += text[end]\n",
    "            end += 1\n",
    "            if end < length and text[end].isalpha():\n",
    "                last_part += text[end]\n",
    "                end += 1\n",
    "\n",
    "        if len(last_part) == 0:\n",
    "            index += 1\n",
    "            continue\n",
    "\n",
    "        # Check boundaries (before and after)\n",
    "        boundary_before = (index == 0) or (not text[index-1].isalnum())\n",
    "        boundary_after = (end == length) or (not text[end].isalnum())\n",
    "\n",
    "        if boundary_before and boundary_after:\n",
    "            # Normalise to canonical form with hyphens\n",
    "            plate = f\"{text[index:index+2]}-{text[index+3:index+7]}-{last_part}\"\n",
    "            if plate not in plates_found:\n",
    "                plates_found.append(plate)\n",
    "            index = end  # skip ahead since we found a valid plate\n",
    "        else:\n",
    "            index += 1\n",
    "    \n",
    "    if plates_found:\n",
    "        print(\"Detected Senegalese plates:\")\n",
    "        for p in plates_found:\n",
    "            print(\"---->\", p)\n",
    "        print(f\"Total unique plates found: {len(plates_found)}\")\n",
    "        return True\n",
    "    else:\n",
    "        print(\"No Senegalese plate number found in the text.\")\n",
    "        return False"
   ]
  },
  {
   "cell_type": "markdown",
   "id": "55ad6e15",
   "metadata": {},
   "source": [
    "## Senegalese License Plate Detector Test"
   ]
  },
  {
   "cell_type": "code",
   "execution_count": 2,
   "id": "55163f05",
   "metadata": {},
   "outputs": [],
   "source": [
    "testing_paragraph = (\n",
    "    \"A man at the African Institute of Mathematical Sciences drives a vehicle with the plate number AB-1234-DC. \"\n",
    "    \"Later, he moved to Nigeria and changed his plate to BC-6782-E. After an accident, he switched to xy 1234 ZT. \"\n",
    "    \"Another person was seen with MN-4321-ZT, while someone else reported PQ-5678-TY. \"\n",
    "    \"uv 9876 T was involved in a minor incident. Someone mistakenly reported BAD-233-X, but the correct plate was bA-2333-X. \"\n",
    "    \"A claim about CD-3456-Z turned out to be fake. Finally, EF 4567 YT was spotted in the area.\"\n",
    ")"
   ]
  },
  {
   "cell_type": "code",
   "execution_count": 3,
   "id": "2a4b2270",
   "metadata": {},
   "outputs": [
    {
     "name": "stdout",
     "output_type": "stream",
     "text": [
      "Detected Senegalese plates:\n",
      "----> AB-1234-DC\n",
      "----> BC-6782-E\n",
      "----> XY-1234-ZT\n",
      "----> MN-4321-ZT\n",
      "----> PQ-5678-TY\n",
      "----> UV-9876-T\n",
      "----> BA-2333-X\n",
      "----> CD-3456-Z\n",
      "----> EF-4567-YT\n",
      "Total unique plates found: 9\n"
     ]
    },
    {
     "data": {
      "text/plain": [
       "True"
      ]
     },
     "execution_count": 3,
     "metadata": {},
     "output_type": "execute_result"
    }
   ],
   "source": [
    "senegalese_plate_number_detector(testing_paragraph)"
   ]
  },
  {
   "cell_type": "markdown",
   "id": "f6740d92",
   "metadata": {},
   "source": [
    "Clearly, the function created works perfectly as it is able to detect all the senegalese license plate numbers in the given paragraph. And also, it is able to normalize them to uppercase and print them in canonical hyphenated form XY-ABCD-T/XY-ABCD-ZT."
   ]
  },
  {
   "cell_type": "markdown",
   "id": "9ffbb94a",
   "metadata": {},
   "source": [
    "## Minimal Text Menu to Test Multiple Inputs"
   ]
  },
  {
   "cell_type": "code",
   "execution_count": 4,
   "id": "6f827753",
   "metadata": {},
   "outputs": [],
   "source": [
    "def test_menu():\n",
    "    print(\"Senegalese Vehicle Plate Detector\")\n",
    "\n",
    "    while True:\n",
    "        print(\"Enter 'q' or 'quit' to stop the program.\\n\")\n",
    "        text = input(\"Enter text input: \").strip()\n",
    "        if text.lower() == 'q' or text.lower() == 'quit':\n",
    "            print(\"Goodbye!\")\n",
    "            break\n",
    "        senegalese_plate_number_detector(text)\n",
    "        print(\"-\" * 40)"
   ]
  },
  {
   "cell_type": "code",
   "execution_count": 5,
   "id": "c5ed9a02",
   "metadata": {},
   "outputs": [
    {
     "name": "stdout",
     "output_type": "stream",
     "text": [
      "Senegalese Vehicle Plate Detector\n",
      "Enter 'q' or 'quit' to stop the program.\n",
      "\n",
      "Detected Senegalese plates:\n",
      "----> AG-1234-H\n",
      "Total unique plates found: 1\n",
      "----------------------------------------\n",
      "Enter 'q' or 'quit' to stop the program.\n",
      "\n",
      "Detected Senegalese plates:\n",
      "----> ER-6785-UI\n",
      "Total unique plates found: 1\n",
      "----------------------------------------\n",
      "Enter 'q' or 'quit' to stop the program.\n",
      "\n",
      "Detected Senegalese plates:\n",
      "----> ER-3353-MN\n",
      "Total unique plates found: 1\n",
      "----------------------------------------\n",
      "Enter 'q' or 'quit' to stop the program.\n",
      "\n",
      "No Senegalese plate number found in the text.\n",
      "----------------------------------------\n",
      "Enter 'q' or 'quit' to stop the program.\n",
      "\n",
      "Detected Senegalese plates:\n",
      "----> ED-3214-TY\n",
      "Total unique plates found: 1\n",
      "----------------------------------------\n",
      "Enter 'q' or 'quit' to stop the program.\n",
      "\n",
      "Goodbye!\n"
     ]
    }
   ],
   "source": [
    "test_menu()"
   ]
  },
  {
   "cell_type": "markdown",
   "id": "6fabb64d",
   "metadata": {},
   "source": [
    "## Senegalese Vehicle Plate Detector Using Regular Expressions"
   ]
  },
  {
   "cell_type": "code",
   "execution_count": 6,
   "id": "a182d066",
   "metadata": {},
   "outputs": [],
   "source": [
    "import re\n",
    "\n",
    "def detect_senegalese_plates_regex(text):\n",
    "    \"\"\"Detect Senegalese license plates in text using a regular expression.\n",
    "\n",
    "    This version does the same job as senegalese_plate_number_detector but\n",
    "    with a compact regex. It returns True if at least one plate is found,\n",
    "    else False. It prints the plates (unique, in order) in normalized form.\n",
    "\n",
    "    Rules handled:\n",
    "    - Two letters, separator (- or space), four digits, separator, 1-2 letters\n",
    "    - Not part of a bigger alphanumeric word (uses lookbehind/lookahead)\n",
    "    - Case-insensitive match; output always uppercase with hyphens\n",
    "    - Accepts hyphen or single space in both separator positions\n",
    "    \"\"\"\n",
    "\n",
    "    pattern = re.compile(r\"(?i)(?<![A-Z0-9])([A-Z]{2})[- ](\\d{4})[- ]([A-Z]{1,2})(?![A-Z0-9])\")\n",
    "\n",
    "    unique = []\n",
    "    for m in pattern.finditer(text):\n",
    "        left, digits, end = m.group(1).upper(), m.group(2), m.group(3).upper()\n",
    "        plate = f\"{left}-{digits}-{end}\"\n",
    "        if plate not in unique:\n",
    "            unique.append(plate)\n",
    "\n",
    "    if unique:\n",
    "        print(\"Detected Senegalese plates (regex):\")\n",
    "        for p in unique:\n",
    "            print(\"---->\", p)\n",
    "        print(f\"Total unique plates found: {len(unique)}\")\n",
    "        return True\n",
    "    else:\n",
    "        print(\"No Senegalese plate number found (regex version).\")\n",
    "        return False"
   ]
  },
  {
   "cell_type": "code",
   "execution_count": 7,
   "id": "6ceec0af",
   "metadata": {},
   "outputs": [
    {
     "name": "stdout",
     "output_type": "stream",
     "text": [
      "Manual parser result:\n",
      "Detected Senegalese plates:\n",
      "----> AB-1234-DC\n",
      "----> BC-6782-E\n",
      "----> XY-1234-ZT\n",
      "----> MN-4321-ZT\n",
      "----> PQ-5678-TY\n",
      "----> UV-9876-T\n",
      "----> BA-2333-X\n",
      "----> CD-3456-Z\n",
      "----> EF-4567-YT\n",
      "Total unique plates found: 9\n",
      "\n",
      "Regex parser result:\n",
      "Detected Senegalese plates (regex):\n",
      "----> AB-1234-DC\n",
      "----> BC-6782-E\n",
      "----> XY-1234-ZT\n",
      "----> MN-4321-ZT\n",
      "----> PQ-5678-TY\n",
      "----> UV-9876-T\n",
      "----> BA-2333-X\n",
      "----> CD-3456-Z\n",
      "----> EF-4567-YT\n",
      "Total unique plates found: 9\n"
     ]
    }
   ],
   "source": [
    "# Quick comparison helper: run both detectors on the same text\n",
    "\n",
    "def compare_detectors(sample_text):\n",
    "    print(\"Manual parser result:\")\n",
    "    senegalese_plate_number_detector(sample_text)\n",
    "    print(\"\\nRegex parser result:\")\n",
    "    detect_senegalese_plates_regex(sample_text)\n",
    "\n",
    "# Example (can be commented out if using interactively)\n",
    "compare_detectors(testing_paragraph)"
   ]
  },
  {
   "cell_type": "markdown",
   "id": "6f7e3cd9",
   "metadata": {},
   "source": [
    "# Project Report: Senegalese License Plate Detection System\n",
    "\n",
    "## Abstract\n",
    "This project builds a simple Python program that finds Senegalese vehicle license plate numbers that appear inside any piece of text. It works without using external libraries. It supports two valid formats, accepts both hyphens and single spaces as separators, ignores letter case, and prints all plates it finds in a clean, standard form. We also add a second version that uses a regular expression (regex) to do the same job in fewer lines. The goal is clarity, correctness, and ease of understanding.\n",
    "\n",
    "## 1. Introduction\n",
    "We often need to pull structured items (like license plates) out of unstructured text (paragraphs, notes, reports). This project shows how to do that for Senegalese license plates using two approaches:\n",
    "1. A manual step‑by‑step parser (no regex)\n",
    "2. A regex-based version (shorter, but less explicit)\n",
    "\n",
    "## 2. What Counts as a Valid Plate\n",
    "Accepted shapes (letters = A–Z, digits = 0–9):\n",
    "- XY-1234-T\n",
    "- XY-1234-ZT  \n",
    "You may also write them with spaces instead of hyphens: `XY 1234 T` or `XY 1234 ZT`.\n",
    "\n",
    "Rules:\n",
    "- First two characters: letters\n",
    "- Separator: hyphen (-) or single space\n",
    "- Four digits\n",
    "- Separator: hyphen (-) or single space\n",
    "- Last part: 1 or 2 letters\n",
    "- No extra letters/digits glued directly to the left or right\n",
    "- Case-insensitive input; output always uppercase with hyphens\n",
    "\n",
    "Examples that SHOULD match:\n",
    "- ab-1234-e\n",
    "- ab 1234 e\n",
    "- mn-4321-zt\n",
    "- uv 9876 t\n",
    "\n",
    "Examples that SHOULD NOT match:\n",
    "- AAB-1234-T (three starting letters)\n",
    "- AB-12345-T (five digits)\n",
    "- AB_1234_T (underscores are not allowed separators)\n",
    "- AB-1234-TXQ (last part too long)\n",
    "\n",
    "## 3. Main Goals\n",
    "- Detect any valid plate in a text\n",
    "- Show each unique plate once, in order of appearance\n",
    "- Print a helpful message if none are found\n",
    "- Make the code easy to read and extend\n",
    "- Provide an alternative regex version for comparison\n",
    "\n",
    "## 4. Approach 1: Manual Parsing (No Regex)\n",
    "### Idea in Plain Words\n",
    "We walk through the text one character at a time. At each position we check if the next characters could form a valid plate. If not, we move one step forward. If yes, we store it (in a standard format) and then jump ahead past it.\n",
    "\n",
    "### Steps\n",
    "1. Convert the whole text to uppercase (so we only compare one case).\n",
    "2. Check two letters.\n",
    "3. Check a separator (hyphen or space).\n",
    "4. Check four digits.\n",
    "5. Check a separator.\n",
    "6. Collect one or two ending letters.\n",
    "7. Make sure there is a boundary (start/end of text OR a non-letter/digit) before and after.\n",
    "8. Normalize to the form: `XY-1234-T` or `XY-1234-ZT`.\n",
    "9. Avoid duplicates.\n",
    "\n",
    "### Strengths / Weaknesses\n",
    "Strengths: Transparent, easy to modify, no hidden behavior.  \n",
    "Weaknesses: More lines of code than a regex.\n",
    "\n",
    "## 5. Approach 2: Regex Version\n",
    "The regex puts the same rules into one pattern. It is shorter and fast. We still normalize output the same way (always with hyphens and uppercase). Lookbehind and lookahead prevent partial matches inside larger words.\n",
    "\n",
    "### Explanation of the Regex pattern\n",
    "- `(?i)` ignore case\n",
    "- `(?<![A-Z0-9])` left side is not a letter/digit\n",
    "- `([A-Z]{2})` two letters\n",
    "- `[- ]` separator\n",
    "- `(\\d{4})` four digits\n",
    "- `[- ]` separator\n",
    "- `([A-Z]{1,2})` one or two letters\n",
    "- `(?![A-Z0-9])` right side is not a letter/digit\n",
    "\n",
    "## 6. Added Comparison Helper\n",
    "We included a helper function `compare_detectors()` so both methods can be run on the same sample text to show they agree.\n",
    "\n",
    "## 7. Testing\n",
    "We built a test paragraph mixing valid plates, invalid near-misses, different separators, different ending lengths, and case variations. Both methods returned the same valid list.\n",
    "\n",
    "## 8. Results (In Simple Terms)\n",
    "- All expected plates were detected.\n",
    "- No incorrect matches were printed in testing examples.\n",
    "- Output is consistent and clean.\n",
    "\n",
    "## 9. Limitations\n",
    "- No fuzzy matching (typos or OCR mistakes not handled).\n",
    "- Only supports the two Senegal patterns described.\n",
    "- Does not check whether the plate is officially issued, just the pattern.\n",
    "\n",
    "## 10. Conclusion\n",
    "We now have two clear ways to find Senegalese license plates inside any text: a manual parser and a regex version. Both meet the goals of correctness, clarity, and simple output. The manual version is ideal for learning and future tweaks. The regex version is concise and practical. "
   ]
  },
  {
   "cell_type": "code",
   "execution_count": null,
   "id": "84987d7e",
   "metadata": {},
   "outputs": [],
   "source": []
  }
 ],
 "metadata": {
  "kernelspec": {
   "display_name": "base",
   "language": "python",
   "name": "python3"
  },
  "language_info": {
   "codemirror_mode": {
    "name": "ipython",
    "version": 3
   },
   "file_extension": ".py",
   "mimetype": "text/x-python",
   "name": "python",
   "nbconvert_exporter": "python",
   "pygments_lexer": "ipython3",
   "version": "3.13.5"
  }
 },
 "nbformat": 4,
 "nbformat_minor": 5
}
